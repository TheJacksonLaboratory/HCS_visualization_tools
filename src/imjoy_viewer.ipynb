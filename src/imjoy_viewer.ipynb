{
 "cells": [
  {
   "cell_type": "code",
   "execution_count": 1,
   "id": "42c5be1b",
   "metadata": {},
   "outputs": [],
   "source": [
    "import zarr\n",
    "import dask_zarr as dz"
   ]
  },
  {
   "cell_type": "markdown",
   "id": "d9ab5f8e",
   "metadata": {},
   "source": [
    "### Modify the url to point to the correct location of the zarr file"
   ]
  },
  {
   "cell_type": "code",
   "execution_count": 2,
   "id": "1d197cbc",
   "metadata": {},
   "outputs": [],
   "source": [
    "z_url = r\"/mnt/KOMP_C8565_1.zarr\""
   ]
  },
  {
   "cell_type": "code",
   "execution_count": 3,
   "id": "0c43f232",
   "metadata": {},
   "outputs": [],
   "source": [
    "z = zarr.open(z_url, mode=\"r\") # open the zarr created above in jupyter kernel"
   ]
  },
  {
   "cell_type": "markdown",
   "id": "05cd06e6",
   "metadata": {},
   "source": [
    "### Set up the ImJoy viewer extension"
   ]
  },
  {
   "cell_type": "code",
   "execution_count": 4,
   "id": "23001bed",
   "metadata": {},
   "outputs": [],
   "source": [
    "from imjoy import api\n",
    "import zarr\n",
    "\n",
    "\n",
    "def encode_zarr_store(zobj):\n",
    "    path_prefix = f\"{zobj.path}/\" if zobj.path else \"\"\n",
    "\n",
    "    def getItem(key, options = None):\n",
    "        return zobj.store[path_prefix + key]\n",
    "\n",
    "    def setItem(key, value):\n",
    "        zobj.store[path_prefix + key] = value\n",
    "\n",
    "    def containsItem(key, options = None):\n",
    "        if path_prefix + key in zobj.store:\n",
    "            return True\n",
    "\n",
    "    return {\n",
    "        \"_rintf\": True,\n",
    "        \"_rtype\": \"zarr-array\" if isinstance(zobj, zarr.Array) else \"zarr-group\",\n",
    "        \"getItem\": getItem,\n",
    "        \"setItem\": setItem,\n",
    "        \"containsItem\": containsItem,\n",
    "    }\n",
    "\n",
    "\n",
    "api.registerCodec(\n",
    "    {\"name\": \"zarr-array\", \"type\": zarr.Array, \"encoder\": encode_zarr_store}\n",
    ")\n",
    "api.registerCodec(\n",
    "    {\"name\": \"zarr-group\", \"type\": zarr.Group, \"encoder\": encode_zarr_store}\n",
    ")\n",
    "\n",
    "\n",
    "class Plugin:\n",
    "    def __init__(self, images, view_state=None):\n",
    "        if not isinstance(images, list):\n",
    "            images = [images]\n",
    "        self.images = images\n",
    "        self.view_state = view_state\n",
    "\n",
    "    async def setup(self):\n",
    "        pass\n",
    "\n",
    "    async def run(self, ctx):\n",
    "        viewer = await api.createWindow(\n",
    "            type=\"vizarr\", src=\"https://hms-dbmi.github.io/vizarr\"\n",
    "        )\n",
    "        if self.view_state:\n",
    "            await viewer.set_view_state(self.view_state)\n",
    "        for img in self.images:\n",
    "            await viewer.add_image(img)\n",
    "\n",
    "\n",
    "def run_vizarr(images, view_state=None):\n",
    "    api.export(Plugin(images, view_state))"
   ]
  },
  {
   "cell_type": "markdown",
   "id": "099173b3",
   "metadata": {},
   "source": [
    "### Access to the group '0' of the zarr file an visualize it"
   ]
  },
  {
   "cell_type": "code",
   "execution_count": 5,
   "id": "afe0e698",
   "metadata": {},
   "outputs": [
    {
     "data": {
      "application/javascript": [
       "window.connectPlugin && window.connectPlugin(\"e04a7eb9-a354-4f13-88eb-3e890bc003fe\")"
      ],
      "text/plain": [
       "<IPython.core.display.Javascript object>"
      ]
     },
     "metadata": {},
     "output_type": "display_data"
    },
    {
     "data": {
      "text/html": [
       "<div id=\"186c7c23-f475-42e2-a4fb-412156801a4e\"></div>"
      ],
      "text/plain": [
       "<IPython.core.display.HTML object>"
      ]
     },
     "metadata": {},
     "output_type": "display_data"
    }
   ],
   "source": [
    "# Create Zarr \n",
    "img = { \"source\": z['0'], \"name\": \"KOMP_test_1\" }\n",
    "\n",
    "# Run vizarr\n",
    "run_vizarr(img)"
   ]
  }
 ],
 "metadata": {
  "kernelspec": {
   "display_name": "Python 3 (ipykernel)",
   "language": "python",
   "name": "python3"
  },
  "language_info": {
   "codemirror_mode": {
    "name": "ipython",
    "version": 3
   },
   "file_extension": ".py",
   "mimetype": "text/x-python",
   "name": "python",
   "nbconvert_exporter": "python",
   "pygments_lexer": "ipython3",
   "version": "3.9.7"
  }
 },
 "nbformat": 4,
 "nbformat_minor": 5
}
